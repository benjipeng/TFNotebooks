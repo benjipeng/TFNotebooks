{
  "nbformat": 4,
  "nbformat_minor": 0,
  "metadata": {
    "colab": {
      "name": "TFLowerAPIs.ipynb",
      "provenance": []
    },
    "kernelspec": {
      "name": "python3",
      "display_name": "Python 3"
    }
  },
  "cells": [
    {
      "cell_type": "markdown",
      "metadata": {
        "id": "p4vRAQcilN3H",
        "colab_type": "text"
      },
      "source": [
        "# Eager execution\n",
        "`tf` eager execution evalutes operations immediately w/o *making a computational graph and run later*."
      ]
    },
    {
      "cell_type": "code",
      "metadata": {
        "id": "noGY3T4Sls7D",
        "colab_type": "code",
        "colab": {}
      },
      "source": [
        "import os \n",
        "import tensorflow as tf\n",
        "import cProfile"
      ],
      "execution_count": null,
      "outputs": []
    },
    {
      "cell_type": "code",
      "metadata": {
        "id": "frFwgpbAmRi1",
        "colab_type": "code",
        "colab": {
          "base_uri": "https://localhost:8080/",
          "height": 34
        },
        "outputId": "2db73dcf-fa76-4379-c67e-0148e6559ec4"
      },
      "source": [
        "tf.executing_eagerly()"
      ],
      "execution_count": null,
      "outputs": [
        {
          "output_type": "execute_result",
          "data": {
            "text/plain": [
              "True"
            ]
          },
          "metadata": {
            "tags": []
          },
          "execution_count": 3
        }
      ]
    },
    {
      "cell_type": "markdown",
      "metadata": {
        "id": "7BYMrulenT4R",
        "colab_type": "text"
      },
      "source": [
        "## Eager Exexution Basics "
      ]
    },
    {
      "cell_type": "code",
      "metadata": {
        "id": "yLID1AoimTxH",
        "colab_type": "code",
        "colab": {
          "base_uri": "https://localhost:8080/",
          "height": 51
        },
        "outputId": "2dd411d9-d7be-44cd-ada1-4963f6b9375c"
      },
      "source": [
        "x = [[2.]]\n",
        "m = tf.matmul(x,x)\n",
        "print(\"m value after tf.matmul is: {}\".format(m))\n",
        "print(\"The type of m is: \", type(m))"
      ],
      "execution_count": null,
      "outputs": [
        {
          "output_type": "stream",
          "text": [
            "m value after tf.matmul is: [[4.]]\n",
            "The type of m is:  <class 'tensorflow.python.framework.ops.EagerTensor'>\n"
          ],
          "name": "stdout"
        }
      ]
    },
    {
      "cell_type": "code",
      "metadata": {
        "id": "6arXdYTMmhWR",
        "colab_type": "code",
        "colab": {
          "base_uri": "https://localhost:8080/",
          "height": 68
        },
        "outputId": "5a8b5f81-ba7a-4743-e5fd-78130007c258"
      },
      "source": [
        "x = tf.constant([\n",
        "                [1,2],\n",
        "                 [3,4], \n",
        "])\n",
        "print(x)"
      ],
      "execution_count": null,
      "outputs": [
        {
          "output_type": "stream",
          "text": [
            "tf.Tensor(\n",
            "[[1 2]\n",
            " [3 4]], shape=(2, 2), dtype=int32)\n"
          ],
          "name": "stdout"
        }
      ]
    },
    {
      "cell_type": "code",
      "metadata": {
        "id": "qCUPJdZqm9Gn",
        "colab_type": "code",
        "colab": {
          "base_uri": "https://localhost:8080/",
          "height": 119
        },
        "outputId": "b0f77c8e-ac39-46b4-b014-b25b780c42b0"
      },
      "source": [
        "y = x+1\n",
        "print(y)\n",
        "y = tf.add(x, tf.constant([[4,3],[2,1]]))\n",
        "print(y)"
      ],
      "execution_count": null,
      "outputs": [
        {
          "output_type": "stream",
          "text": [
            "tf.Tensor(\n",
            "[[2 3]\n",
            " [4 5]], shape=(2, 2), dtype=int32)\n",
            "tf.Tensor(\n",
            "[[5 5]\n",
            " [5 5]], shape=(2, 2), dtype=int32)\n"
          ],
          "name": "stdout"
        }
      ]
    },
    {
      "cell_type": "markdown",
      "metadata": {
        "id": "aa1YsuZCncZk",
        "colab_type": "text"
      },
      "source": [
        "## Eager Training\n",
        "\n",
        "During eager execution, can use `tf.GradientTape` to trace operations for computing gradients later.<br>\n",
        "Operations can occur during each call, all forward-pass operations get recorded to a **\"tape\"**. `To compute the gradient, play the tape backwards and then discard`."
      ]
    },
    {
      "cell_type": "code",
      "metadata": {
        "id": "O28Wo4bWncMT",
        "colab_type": "code",
        "colab": {}
      },
      "source": [
        "w = tf.Variable([2.0])\n",
        "with tf.GradientTape() as tape:\n",
        "    loss = w * w"
      ],
      "execution_count": null,
      "outputs": []
    },
    {
      "cell_type": "code",
      "metadata": {
        "id": "EVJvzTz5nCkf",
        "colab_type": "code",
        "colab": {
          "base_uri": "https://localhost:8080/",
          "height": 34
        },
        "outputId": "8ef54377-86e8-4318-bf43-985f7b07abea"
      },
      "source": [
        "tape.gradient(loss,w)"
      ],
      "execution_count": null,
      "outputs": [
        {
          "output_type": "execute_result",
          "data": {
            "text/plain": [
              "<tf.Tensor: shape=(1,), dtype=float32, numpy=array([4.], dtype=float32)>"
            ]
          },
          "metadata": {
            "tags": []
          },
          "execution_count": 20
        }
      ]
    },
    {
      "cell_type": "markdown",
      "metadata": {
        "id": "JDpAQ0R70TAS",
        "colab_type": "text"
      },
      "source": [
        "A a multi-layer MNIST digits"
      ]
    },
    {
      "cell_type": "code",
      "metadata": {
        "id": "K2VW-s2b3F3d",
        "colab_type": "code",
        "colab": {}
      },
      "source": [
        "# Fetch and format the mnist data\n",
        "(mnist_images, mnist_labels), _ = tf.keras.datasets.mnist.load_data()\n",
        "\n",
        "dataset = tf.data.Dataset.from_tensor_slices(\n",
        "  (tf.cast(mnist_images[...,tf.newaxis]/255, tf.float32),\n",
        "   tf.cast(mnist_labels,tf.int64)))\n",
        "dataset = dataset.shuffle(100).batch(32)"
      ],
      "execution_count": null,
      "outputs": []
    },
    {
      "cell_type": "code",
      "metadata": {
        "id": "rUeuQo228B6V",
        "colab_type": "code",
        "colab": {
          "base_uri": "https://localhost:8080/",
          "height": 289
        },
        "outputId": "cda0ef1e-966a-4a97-b1d0-85d3f29658a2"
      },
      "source": [
        "# Build the model\n",
        "mnist_model = tf.keras.Sequential([\n",
        "  tf.keras.layers.Conv2D(16,[4,4], activation='relu', input_shape=(None,28,1)),\n",
        "  tf.keras.layers.Conv2D(16,[3,3], activation='relu'),\n",
        "  tf.keras.layers.GlobalAveragePooling2D(),\n",
        "  tf.keras.layers.Dense(10)\n",
        "])\n",
        "mnist_model.summary()"
      ],
      "execution_count": null,
      "outputs": [
        {
          "output_type": "stream",
          "text": [
            "Model: \"sequential_10\"\n",
            "_________________________________________________________________\n",
            "Layer (type)                 Output Shape              Param #   \n",
            "=================================================================\n",
            "conv2d_20 (Conv2D)           (None, None, 25, 16)      272       \n",
            "_________________________________________________________________\n",
            "conv2d_21 (Conv2D)           (None, None, 23, 16)      2320      \n",
            "_________________________________________________________________\n",
            "global_average_pooling2d_10  (None, 16)                0         \n",
            "_________________________________________________________________\n",
            "dense_10 (Dense)             (None, 10)                170       \n",
            "=================================================================\n",
            "Total params: 2,762\n",
            "Trainable params: 2,762\n",
            "Non-trainable params: 0\n",
            "_________________________________________________________________\n"
          ],
          "name": "stdout"
        }
      ]
    },
    {
      "cell_type": "code",
      "metadata": {
        "id": "4jiU60x39LEB",
        "colab_type": "code",
        "colab": {
          "base_uri": "https://localhost:8080/",
          "height": 34
        },
        "outputId": "c0e2d39b-6703-497b-d817-2f1e1d8d19c6"
      },
      "source": [
        "dataset.take(1)"
      ],
      "execution_count": null,
      "outputs": [
        {
          "output_type": "execute_result",
          "data": {
            "text/plain": [
              "<TakeDataset shapes: ((None, 28, 28, 1), (None,)), types: (tf.float32, tf.int64)>"
            ]
          },
          "metadata": {
            "tags": []
          },
          "execution_count": 57
        }
      ]
    },
    {
      "cell_type": "code",
      "metadata": {
        "id": "-BXcCjLM8Gl_",
        "colab_type": "code",
        "colab": {
          "base_uri": "https://localhost:8080/",
          "height": 51
        },
        "outputId": "bee59020-28cb-4cf5-a23d-6d5d48742579"
      },
      "source": [
        "for images,labels in dataset.take(1):\n",
        "  print(\"Logits: \", mnist_model(images[0:1]).numpy())"
      ],
      "execution_count": null,
      "outputs": [
        {
          "output_type": "stream",
          "text": [
            "Logits:  [[ 0.044005   -0.0445735  -0.03566688 -0.00219032  0.02094713 -0.08744129\n",
            "  -0.03646804 -0.07307687 -0.00136107  0.01177069]]\n"
          ],
          "name": "stdout"
        }
      ]
    },
    {
      "cell_type": "code",
      "metadata": {
        "id": "RLUYkUXT8f_G",
        "colab_type": "code",
        "colab": {}
      },
      "source": [
        "optimizer = tf.keras.optimizers.Adam()\n",
        "loss_object = tf.keras.losses.SparseCategoricalCrossentropy(from_logits=True)\n",
        "loss_history = []"
      ],
      "execution_count": null,
      "outputs": []
    },
    {
      "cell_type": "code",
      "metadata": {
        "id": "eesnlksQ_Q5F",
        "colab_type": "code",
        "colab": {}
      },
      "source": [
        "def train_step(images, labels):\n",
        "  with tf.GradientTape() as tape:\n",
        "    logits = mnist_model(images, training=True)\n",
        "    \n",
        "    # Add asserts to check the shape of the output.\n",
        "    tf.debugging.assert_equal(logits.shape, (32, 10))\n",
        "    \n",
        "    loss_value = loss_object(labels, logits)\n",
        "\n",
        "  loss_history.append(loss_value.numpy().mean())\n",
        "  grads = tape.gradient(loss_value, mnist_model.trainable_variables)\n",
        "  optimizer.apply_gradients(zip(grads, mnist_model.trainable_variables))"
      ],
      "execution_count": null,
      "outputs": []
    },
    {
      "cell_type": "code",
      "metadata": {
        "id": "Zzjg7LAoA-I8",
        "colab_type": "code",
        "colab": {}
      },
      "source": [
        "def train(epochs):\n",
        "  for epoch in range(epochs):\n",
        "    for (batch, (images, labels)) in enumerate(dataset):\n",
        "      train_step(images, labels)\n",
        "    print ('Epoch {} finished'.format(epoch))"
      ],
      "execution_count": null,
      "outputs": []
    },
    {
      "cell_type": "code",
      "metadata": {
        "id": "AwUB19siA-xe",
        "colab_type": "code",
        "colab": {
          "base_uri": "https://localhost:8080/",
          "height": 68
        },
        "outputId": "713ebed5-ea5c-4565-9c46-67141d7dcd0c"
      },
      "source": [
        "train(epochs = 3)"
      ],
      "execution_count": null,
      "outputs": [
        {
          "output_type": "stream",
          "text": [
            "Epoch 0 finished\n",
            "Epoch 1 finished\n",
            "Epoch 2 finished\n"
          ],
          "name": "stdout"
        }
      ]
    },
    {
      "cell_type": "code",
      "metadata": {
        "id": "aX3Sg5nZBA1g",
        "colab_type": "code",
        "colab": {}
      },
      "source": [
        "import matplotlib.pyplot as plt\n",
        "\n",
        "plt.plot(loss_history)\n",
        "plt.xlabel('Batch #')\n",
        "plt.ylabel('Loss [entropy]')"
      ],
      "execution_count": null,
      "outputs": []
    },
    {
      "cell_type": "markdown",
      "metadata": {
        "id": "3dMT5K-kBGYa",
        "colab_type": "text"
      },
      "source": [
        "## To Be Continued\n"
      ]
    },
    {
      "cell_type": "markdown",
      "metadata": {
        "id": "K1Q6aDyNBSBA",
        "colab_type": "text"
      },
      "source": [
        "# TensorFlow Tensors and Variables\n",
        "`dtype` is a uniform type that a tensor has. A tensor is like `np.arrays`. <br>\n",
        "Variables are created by `tf.Variable` class. It is a tensor whose value can be changed by ops. Even `tf.keras` uses `tf.Variables` to function *(parameter storage)*."
      ]
    },
    {
      "cell_type": "code",
      "metadata": {
        "id": "AziQjBgtCsFc",
        "colab_type": "code",
        "colab": {}
      },
      "source": [
        "import tensorflow as tf\n",
        "import numpy as np"
      ],
      "execution_count": null,
      "outputs": []
    },
    {
      "cell_type": "markdown",
      "metadata": {
        "id": "V_S2VBBBCYPm",
        "colab_type": "text"
      },
      "source": [
        "## Tensors\n"
      ]
    },
    {
      "cell_type": "code",
      "metadata": {
        "id": "wM4k0U1OBR3F",
        "colab_type": "code",
        "colab": {
          "base_uri": "https://localhost:8080/",
          "height": 102
        },
        "outputId": "adffe7dc-8b5c-40c6-e1b7-e206970d888c"
      },
      "source": [
        "rank_0_tensor = tf.constant(256)\n",
        "rank_2_tensor = tf.constant([[1, 2],\n",
        "                             [3, 4],\n",
        "                             [5, 6]], dtype=tf.float16)\n",
        "print(rank_0_tensor,\"\\n\", rank_2_tensor)"
      ],
      "execution_count": null,
      "outputs": [
        {
          "output_type": "stream",
          "text": [
            "tf.Tensor(256, shape=(), dtype=int32) \n",
            " tf.Tensor(\n",
            "[[1. 2.]\n",
            " [3. 4.]\n",
            " [5. 6.]], shape=(3, 2), dtype=float16)\n"
          ],
          "name": "stdout"
        }
      ]
    },
    {
      "cell_type": "code",
      "metadata": {
        "id": "mYHl4EYlFwQi",
        "colab_type": "code",
        "colab": {
          "base_uri": "https://localhost:8080/",
          "height": 170
        },
        "outputId": "23056e31-a305-4b41-9783-fe40e727fbd6"
      },
      "source": [
        "rank_3_tensor = tf.constant([ # this is the first dimension\n",
        "    [                         # this is the second dimension\n",
        "        [                     # this is the 3rd dimension\n",
        "            0, 1, 2, 3, 4\n",
        "        ],\n",
        "        [5, 6, 7, 8, 9]\n",
        "     ],\n",
        "    [[10, 11, 12, 13, 14],\n",
        "    [15, 16, 17, 18, 19]],\n",
        "    [[20, 21, 22, 23, 24],\n",
        "    [25, 26, 27, 28, 29]],\n",
        "   ])\n",
        "                    \n",
        "print(rank_3_tensor)"
      ],
      "execution_count": null,
      "outputs": [
        {
          "output_type": "stream",
          "text": [
            "tf.Tensor(\n",
            "[[[ 0  1  2  3  4]\n",
            "  [ 5  6  7  8  9]]\n",
            "\n",
            " [[10 11 12 13 14]\n",
            "  [15 16 17 18 19]]\n",
            "\n",
            " [[20 21 22 23 24]\n",
            "  [25 26 27 28 29]]], shape=(3, 2, 5), dtype=int32)\n"
          ],
          "name": "stdout"
        }
      ]
    },
    {
      "cell_type": "markdown",
      "metadata": {
        "id": "BMHg3PkADEpx",
        "colab_type": "text"
      },
      "source": [
        "The followings are A `scalar`( [ ] ), `vector`( [ 3 ] ), and `tensor`( [ 3,2 ] ): <br>\n",
        "![image.png](data:image/png;base64,iVBORw0KGgoAAAANSUhEUgAAAGcAAABoCAYAAADsF+4sAAAAAXNSR0IArs4c6QAAAERlWElmTU0AKgAAAAgAAYdpAAQAAAABAAAAGgAAAAAAA6ABAAMAAAABAAEAAKACAAQAAAABAAAAZ6ADAAQAAAABAAAAaAAAAAC50WjEAAACwklEQVR4Ae3ZPUsdQRTGcSMpUlhYprBIkdLCj7DgF0gRSEBSpAhYCrYWgQg2loEEQkggKQ2k8ANciIWdloIIt7QIaBFQMBCfRxg4XLRQw+6c4T8wd8+5bzv7O87s3nVqioYAAggggAACCCCAAAIIIIAAAggggAACCCCAAAIIIIAAAggggAACCCCAAAIIIIAAAggggAACCCCAAAIIIIAAAggggECfAg/63FmP+3qofb1Q99btSH3nKuJhcIFVjeBf6F8GHxEDuBJY0OOFevriTDdW0Ec6nm/qZTlLfXitFWdD1ZhPXZFGB7+o44pLWYxTnnNamTmzKszX1v7oWinOJxVmLhRnHOK0YQvFWZL+81CB94pHISccSMCz5US9nF8OFc+o+xxTnvPWebqWfeb4stnnG7e/6q/U/zhpoWUuju8CdKEIm4p3Q044kIDvApypl6VrT3H84ellrLzmrfN0LePM8V0AY3vrdq7+Wt3LWlMtY3HeqQKeOaWtKdgvCdvhBDrtOi5Xv5TH5ayMzDMrvs95upZp5viqzFdnpfmqzFdnzS1n5QAzFeeDBj1XBq7tivo45M2FWYrj/2q+DPrbij+HvMkwQ3E8Wz4G/d+K34S82TBDceJdABdiWf242YqEA6u9OJN3Ab5r7D/C+JsOr7sMreWAn2og62Ew/rG5pd6F524KH0+84LybeG5Xub+TdgeBTp+Jv1X+d/zkDmPq9SO1L2u9YtS2M4pTW0XCeGo+54w1zrdhrLcJn+nNC+ED+4p/htzh6URO2pOA76XFc5TzdI1lreKSURyKU7FAxUNj5lCcigUqHhozp+Li1Pw75z5sB/rwKHyBcxoCCCCAAAIIIIAAAggggAACCCCAAAIIIIAAAggggAACCCCAAAIIIIAAAggggAACCCCAAAIIIIAAAggggAACCCCAAAIIIJBV4BLQk25QQl8yWAAAAABJRU5ErkJggg==)\n",
        "![image.png](data:image/png;base64,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)\n",
        "![image.png](data:image/png;base64,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)<br>\n",
        "For a `3-axis tensor` ( [ 3,2,5 ] ): <br>\n",
        "![image.png](data:image/png;base64,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)\n",
        "![image.png](data:image/png;base64,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)\n",
        "![image.png](data:image/png;base64,iVBORw0KGgoAAAANSUhEUgAAANQAAAEFCAYAAACby8kmAAAAAXNSR0IArs4c6QAAAERlWElmTU0AKgAAAAgAAYdpAAQAAAABAAAAGgAAAAAAA6ABAAMAAAABAAEAAKACAAQAAAABAAAA1KADAAQAAAABAAABBQAAAADDyzN2AAAXV0lEQVR4Ae2dC4wd1X3GZ19gGlRI5UrQbtSN5FYuchLTONgpi2NkRyYBghBxDQGCeSR2C4kdESBtUlGiQKhCS1zCS1BhYoipbAokISFKiF28DQTbyFFRoSqSnWIpVHaLi21s77Pft3tnd/bu3Htnzpw5587Md6y/5955nJnzO/PbM3dmzkwQKImACIiACIiACIiACIiACIiACIiACIiACIiACIiACIiACIiACIiACIiACIiACIiACIiACIiACIiACIiACIhASQh0lKQcKkZzArMw+bTaLPswHG4+u6aKgAjUE6BEaxEvIo4i9tSCn7cirkJ0I5REQARaEJiH6a8hnkIsQUTFoWjnIygVZetFKImACDQg0I/xv0GsbDA9OpotGENJBEQghkAoE4dKIiACGQhIpgzwtKgIRAlIpigNfRaBDAQkUwZ4WlQEogQkU5SGPotABgKSKQO8vBat2p0SvB5zeQuYv8L03S3m8T2ZMm1GrEAM5LQxXMcjiOg1rJxWFZvtb2MsY1/s1PxH8nrdGOL30qzKF6w022hz3rnIbEOLDP8G09tZKCcyndDT88xPnrjvpHMW/clJLXhZn3zTbXcH9393c/Cjx+4JFn/0w33WV9Aiwwce3Rz81R33jL1z+Mh/t5h1xuSqCfWhGoE3MByYQWNihGRqA5me+969Qf/CMxtUUX6jQ5l+sPEfOj528bXH0q6pakLNrwF6AsO/TgvL8/yVaZnaQaazzwp3lXS13plu9sLPHVLaWbCSSKacKyzaMpnKxE2sqlC7cq4fm9lLJps0Y/KyJROzrpJQvSjvbMQBRB9iI4J3ZDM2IZYg2i1JppxrxKZM3NQq/YYKT0icjHJvr6snnv27FHEX4qa6ab6+SqacyduWiZtbpRZqXq1++EfkTsT7ELwO937EAwimLyOuH//k9z/JlDP/PGTiJlfpwu5ylHcZgqfFH0fUp29hBIV6C0HZhhE+kmTKmXpSmbp//8N7sSn8g5s4VUmoVlB6McObtZk+guHOVgvkMF0y5QA1mmVSmbiMiVBVOuSLco37vA8j2ToxnTIxcPq/ZMoZdxqZTDelSkLxt1MfYlYTWOG0kSbz5DFJMuVBNZKnC5m4uioJ9TbKuwfBB5TEpbkYeWptwqtxM+Q0TjLlBDbM1pVMXF+VhPpZDfCaEHTd8Nba96cxPFA3La+vkikvsrV8XcrEVVZJqNtR3mEEz/Q9hJiNYOpF8DuvQx1G/CXCRZJMOVN2LROLU7WzfJegzBsQJyOYKFD4ma3SxYgBRN7JiUwoxAuIjg5PtTzG3kTjGzAxdP9/R7Dtnx8OTO/NMznL5wm1e7SRNbJFWo1YgOBJCN6ivw3xIOIgIu/kRCb2Z0IXhPcuPecs53Vc158pb54z8mfL9JXb1wdHjw0Gx//r5RnTk44wEYpnvqqW9qHAvrpuOJOp1jnQm0w+u2BQpmcf+06wdMXnne/bVfoN5Rxu3Qpdy+Stp207yGR6mFdXZ6m/SqjUyIwWkExG2JIvFB7msWXyJRO3VkIlrzPTOSWTKbmEy7WLTNxcCZWw0upm24rvFKVVuggz5P50onZ4oEqVD/OiO4GEitJI/vmHmJVS3Y3oQ9SneRjxCOLbiE8g8joV3y+ZJk5A+DzMQ/1Opiqe5ZssfIYPf4dlL0CchwgvCPPsIdMcxDBiA+IDCF7ryiNJptrZvHaRiZUsocx39buw6DrEHyN4H+BpCKa9teDnvJJkakOZWNkSynyXfx6LPlFj+DqGDBdJMrWpTKx8/YYyV+AYFuXtSr3mWaReUjK1sUysTQmVep/2toBkanOZJFQ2N3i4PBvxVrZsEi0tmQogE2tSLVSi/Tl2Jl6H2o3goV+eSTIVRCbuBBLKXIW1WHSL+eKJlpRMBZKJNer8buREu1H7z8R3TH0NwetMvOaUR+rv6up8obOj00sdjY6OBlw1//lIY+hMNYJtyNKfadYfnBUc+7VZ941/fXl3gLdvsG570pRfp83T0JqYl4d6dyJ4B0RuMnV3dz315D/+fXD+Mq7ObWqX/kyDQ8NebnSlTJ+8/AZCfycteR3ypSPGvZv35l2GeDXdoonn7qdMz226rxMyOW8eQpl4bx5edpZ4o23NGL3R1UdX41Cm62/m30wJZate4/IJZcr1NZyhTEv+dMHvxG1EnuOiMvl62VnYOdDH7URRmS75DDt1p09qoZIxk0zJOBnPFW2ZiioTCy+hWu8Ckqk1o0xzlEUmQpBQzXcFydScT+apZZKJMCRU411CMjVmY2VK2WQiFAkVv2tIpngu1saWUSbCkVAzdxHJNJOJ1TFllYmQJNT0XUUyTedh/VuZZSIsCTW1y0imKRa5fCq7TIQmoSZ2HcmUi0JTmVZBJpZWQk08Diz3R33pDgh/TyeycQfE1J+G5p+qLpRapub7R+apVWmZQlBVFkoyhXtBTkPfMo2OjI7fNc4bXU3vzUuLpqrdN5zI1NXZ+QL6E3V84rLr09ZL5vnH+zPhxVC8Y/vjf7Ymc35pM2B/Jv77+ZaHzLtg1N4vlXbdnJ+HeezK5VImrreKQjmRib+Ztjx819gFH1/spQvGvRv+Kfj+o+uDZYsXsp6dprBlGh0dM5eJW2xILvzNxAxctUwh4Kod8jmTif2ZIJNzvuyCQZme23SvV5n4FgwfKZSJLVNHh3P8lTrL51QmX/2ZQpkWL/LbObDIXTCy/CFwr3CWrTVfVjKZs0u0ZHiY5+v9TNGWyfVhXhRQFYSSTNEaz+GzZJqCWnahJNNUXefySTJNx1pmoSTT9Lq2/k0yzURaVqEk08y6tjpGMsXjLKNQkim+rq2NlUyNUZZNKMnUuK6tTJFMzTGWSSjJ1LyuM0+VTK0RlkUoydS6rjPNIZmS4SuDUPNR1NL3Z9IdEDc4v9E1mULT5yq6ULNQnKcQfLL7wPSiWfs2+axx3U7Ev11uU7vcAZG01EUX6hYUdBviyaQFTjmfZPL4fiZ2QeFbMFx3wUi5j0ybvejdN65AaS6eViJ7X/rbpT/T8pV/Ya9UCXOy0p8p4briZmPLxORLplde3s7V9/K/NKnIQrGwPOTL47Uy4y2T+jNl7M+UZk+MzBse5o2Nue/PxM3YvXMgWHfdhfxYqfdDzUGB32CpLafJwzz1Z7JMNkF2oUxsmTo73f8ioUxfvOaC4Cu33citrZRQCaon9SyTMukERPVOQERl+szVl6beebiA+z8BRpsZu9A+jE19jBub08RIyeTxBES0ZfLRn8mGTNyNiiwUD/f4G6oPkTVJJsk0fphn2jKFO2CRhWIZtiDWhoUxHEomyWRFJu5/RRfqNpSBB7tLECZJMkkmazJxByy6UAdRhisQJk8kkUySyapMFKrI16G4/UzP12L8S8L/Ki/TLd9YH/zo8e9ke25eQtj1s5XlBER9ufi9DELFlavZuMrLdNPXvx38+HuSKesJiLidrOiHfHFlajZOMtVk6l94ZjNOuUwrc8sUAquSUJJJMln/zRSKFA6rIpRkkky5y0SpqiCUZJJMTmSqglCSyaNM7ALisz/T6OjI5I2ueZyACA/zosMinuVbigKsQvDuzYcR6xGx6YSe7p93dXX1fOqza/mmIZO3DeH1SobvVMEKR0ZGAvSpCi680uxmDu6QWdY/PDwS/OSJ+wJfJyBYKZ77MzlrmVhWpiIJdTK2dxOiD8F3pfwtYi+iYTrxxBP/7+3/eGE2ZjC3omHurSf87hnnBvv/fWvrGXOa4/QPLvMm04Wf/WKAFwg6fz8TUYb9mfjHyFXLFFZhUX5DUaYfI/YieL73QQQ7Fh5GKLURAZ4ap0xrbrwj6Ozqcr5l0bvGOzrd/x0tilDfRM28jvgCYth5LWmFiQhEZSpyF4xEhW0wUxEO+eZg2z+N+MMGZdDoNiAgmSYqoQgt1Gps6gMIHd61gThxmzAu05UTh3lVbZlCLkUQahk29tlwgzVsLwKTMn35Dm8nIMJnQLg+ARFXE0UQah42fGfcxmucXwKSaSb/IgilQ72Z9eZ9jGSKr4IiCMVOhEptREAyNa6MIgjVeOs1xTkBydQcuYRqzkdTIwQkUwRGg48SqgEYjZ5OQDJN59Hom4RqREbjJwlIpkkULT9IqJaIqj2DZEpX/xIqHa9Kzc3uIxfyDghPF235fqh2umibpPIlVBJKBZ3HpANYWFS2TOiM5U2mX+36xfim8C0YPu6A2PHirqPYgNQ3YkuocA8q4dC080J4mDcyMubldiLKtPZavJ+pY8ybTFev+ByFujrtbiGh0hIr+fyhTDzM89GfKZTp5lvXeXk/FFsmyjQ0OHQRqnogbXVLqLTESjx/VCYfd41HZfJ1mJdFJu4aEqrEgqQpmmTK1jKFrCVUSKLCQ8lkRybuQhKqwiKx6JLJnkzkKaFIoaJJMtmVibuRhJJMXk+N82xeUU9AxO06EiqOSsnHqWWy3zKFu4yECklUZCiZ8pOJu5CEqohILGbVZdr50isj16z4/DHTi7ZJdhUJlYRSCeaRTOMyHRocHPwUqjP1HRBJdwEJlZRUgeeTTBMyHT9+HDcI5icTdxEJVWBRkmy6ZHInUxWE6kmy0+U1z5jRG3Tsbc2hw0e89mdifyreNe7r1PgoXv+B30yHXLRMYa11hx/KOBwaHj6l98zl3oo2NDQc+Fw/C+6rcyBvdKVQvmTa8YvxZ6OOuZSJvEstVGfXCQeeGdg3mwX1kZZ95PQA6/ex6vF1nrfofV4v2gbBaLaLtoY9JHk279qVaw5B6Nx/M9VXrn5D1RPR90wEol0w8PbITHmZLFw7Ne70MC+6nRIqSkOfMxGIyuTjdiLfMhGehMq0C2nhkIBkmiAhocI9QkNjApJpCp2EmmKhTwYEJNN0aBJqOg99S0FAMs2EZSJUH7LZiNiP4InNtxGbEYsQthPf/q7UhgQkU3ylpBWK0vwb4opadtswPIDgS6W3I65C2Ey9yEwvXLNJ1EJekqkxxDRCzUI2mxBsNfgS6dMR5yL4dvZVCF4k5vg+hK10NjLCI0yV2oWAZGpeE2mEOh9Z9SH2Ir6AiD6m9lF8/xmC0l2CsJVWIaOnbWWmfLIRkEyt+aW59eh/kN0GxOuIqEz4Op7Ce2zmhiMyDvnkzlMRz2TMR4tbICCZkkFMI9Q2ZMlolEKRbByiMa+HEbwXK07eRtug8TkQkEzJoaY55GuUK1uR+xE8YcFW6nFElsTbw7ci1iBeypKRls1OQDKlY5imharPeSVGrEPMR8xCcOe/EnEQkTbxRMdSxCrEPMRliG0IJY8EvPdnGnPfnykr7iwtFFuk0xChQBRrLYJypUlsjQ4hnq4t9AEMt9U+a5CBQJYOjmyZMvdn4lVKw8T+TFi/8/5Mhps7uVgWob6EXN6PCE+fU6wbEI8g0qSLMTMlWofoQ/wUMRehlJFAR9BhlEN4mJe5P5PR2oOg1p/p4MjwyGJkMWCYjZfFsggV3eBt+LKiNuJSDNMIQRFfRaxHnIl4DMGLxP0IJccEQpnY07aK/Zmy4rYlFLeDf0neqm3QwtrQZPAgFmKr9RQijZgm69IyEQJRmaranymCw+hjGqF49u2riCVN1nSsybQ0kyjn1xAPpVlI85oTkEzm7KJLphGKh3LfQKyOZhD5zGc39Na+/zoy3vQjWyqe/aPISjkSkEz24KYRaktttbwRdn7MJtyNcd2INxBsYWykDciE61PKiYBksgs2jVDPYtVPIygNT3XfgliC4PUonkS4AnEYwWtRwwgb6XlkssBGRspjJgHJNJNJ1jGUI02iLGyJrkPcWbcgWyZOf6lufJav+7DwqVky0LLxBCRTPJesY9MKxRboc4jbEbz7fDaC43YhBhC2WiZkNZ54Sl3JMgHJZBloJLu0QoWL7sWHe8MvGhaHgGTKt67S/IbKd0uUe+4EJFPuiPVcvvwRt8caJJObelAL5Yaz17VIJnf4JZQ71l7WJJncYi+1ULjXusctzrq14XUuPtORI4e8vp9prID9mbLWl+lZvqzrdbL80NDgKcsX9TpZV9xKBgePBz7XPzY6Gtz89RvNXymT4e8B+zONjo4FeKctH2PASyqVSKUWqueE7gO/fH0rr5V5SWf90dkB1u9l3VzpR8/4mLlMGbY6fD9T1WQislIf8mXYJ7SoIYF2eKWM4aZbWUxCWcGoTEig6jKRgYQiBaXMBCTTBEIJlXlXUgaSaWofkFBTLPTJgIBkmg5NQk3noW8pCEimmbAk1EwmGpOAgGSKhySh4rlobBMCkqkxHAnVmI2mxBCQTDFQIqMkVASGPjYnIJma8+FUCdWakeYAAcmUbDeQUMk4VXouyZS8+iVUclaVnFMypat2CZWOV6XmrmJ/pqwVLKGyEmyyfIbuRE1yTTEpQwfHXb98Be9nCoLjx49Xqj9TCrqxs0qoWCylGWnkNGW6ZuXqdyDTOSBRmc6BNmpdQtmgWKI8QpmOvXuMDzKVTCnrVkKlBFbm2SVT9tqVUNkZliIHyWSnGiWUHY6FzkUy2as+CWWPZSFzkkx2q01C2eVZqNwkk/3qKoJQfC2okmUCksky0Fp2RRDK23P18kHuP1fJlF8dFEGoV1H8ufkhqFbOkinf+i6CULy4eFG+GKqRu2TKv56LINSDwHAdojt/HOVdg2RyU7dFEGo3UDBudYOkfGuRTO7qtCh/9f8cSLYj+Eb4LyFsvxwbWZYzSSa39VqEFopEDiDORfQjtiKuQrT/iQqje71RMkvpyOF3O3jXuG50tQQ0QTZ4J1mhEltUyrQKMR9xJ+J2RGzq7ul+6z3v+a0TYyc6GHn06LFTTzpp1mGsykuL+u6RoycPDQ3xD9GAg+JqFSIgAiIgAiIgAiIgAiIgAiIgAiIgAiIgAiIgAiIgAiIgAiJQJQJfrVJh68rKfmRr68bpqwhkInAUSxfl9qpMBY1ZeA7GvRYzXqNyJFCUW49MEbAv1SLThQu+3EJsP8uv5JBA2YX6IVhe4pBnO63q09gYll9JBKwROA057Uf0WsuxGBktwGa+iZhVjM3VVhaJwPXY2B2IqjzshX9E9iD4KGUlEciFwD3IlVL15ZJ7+2TKO/D/E3Fj+2yStqSsBNhS7UdQLvarKsvhEFvepYiNiN8gqvqbEUX3n4rWHyorMR4OUazzEPMQh2uBgXFiHuyizxMATyKa9X2ixJcjwvVnlZo9mHlZIFw/n79xEKEkAoUkwB2aYl6L2I7gdZ9Gp+nPx7Q3ET9AUKq5iKr8rkNRlUQgPQFKw8OulXWL8jcNTxQ0kq1udn0VAREICbDloVShPPxNwxMFPNxUEgERMCCwHMvw8G82gnLxsFCpAgSqdlLCZZVuxcp4wuANxNUuV6x1iUAZCfBExRhiaRkLpzKJgGsC/C1FobKeGne93VqfCLQlAZ5S52GfkgiIgAiIgAiIgAiIgAiIgAiIgAiIgAiIgAiIgAiIQGEIdBVmS4u1obxD4oxa8I7y/0WMIpREQARSEKA830K8jeBF3TAO4fM3EbrICwhKIpCEAFul7QhKdBSxEXErYlPtO8dvRXA+JREQgRYE+JRWSsO7y+fUzcu7zfcjOF1Pc62Do68iEEdgB0ZSmNVxEzHultp0tmJKJSVQ9gdduqw2PltiL+JfGqyUz31gqtozAidKXZH/dTxvr6LPbZHVgtr0fS3m02QREIEWBHj2j7+teEjIQz8lERCBDAQ2Y1nKtAdBuZREQAQMCPCQ+n4EZeK1qPDBLfioJAIikIYAW6KwZaJMfFqtkgiIgAEBPjLsRQRbJl5/kkyAoCQCJgT4LIk3EZTpNQS/K4mACBgQoDzh2TxewOVz+ZREQAQMCPAwL5SJv510I6wBRC0iAiGB8ATEDozQBfOQioYiYECAh3r8zZQk9hjkr0UKQkD38tmpqIV2slEuIiACIiACIiACIiACIiACIiACIiACIiACIiACIiACIiACIiACIiACIiACIiACIiACIiACIiACIiACIiACIiACItAmBP4fnkiLkctQz14AAAAASUVORK5CYII=) <br>\n",
        "***Note**: Figure credit to Google TensorFlow Team"
      ]
    },
    {
      "cell_type": "markdown",
      "metadata": {
        "id": "-LnlUJ2lNoc9",
        "colab_type": "text"
      },
      "source": [
        "For a vector with `rank of 4`<br>\n",
        "![image.png](data:image/png;base64,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)![image.png](data:image/png;base64,iVBORw0KGgoAAAANSUhEUgAAAR8AAACyCAYAAAB7osvJAAAAAXNSR0IArs4c6QAAAERlWElmTU0AKgAAAAgAAYdpAAQAAAABAAAAGgAAAAAAA6ABAAMAAAABAAEAAKACAAQAAAABAAABH6ADAAQAAAABAAAAsgAAAAAXYjgwAAAbkElEQVR4Ae2df8hU153G01Sou3UXF4TkDxcm5F3Wsi5rqUuyxJIBLQaSkhbDJsWUMRhIFrPoYkJawvK6pJAGA0kwJdk15bXYYoIpMcSgwZSxaIlFl1jioruafaeNELuxxN24KNWt+3ziOfZ4c+fHO+/cuTPzPg887/l5z/ec557zvefembnvNdcYVsAKWAErYAWsgBWwAlbAClgBK2AFrIAVsAJWwApYAStgBayAFbACVsAKWAErYAWsgBWwAlbAClgBK2AFrIAVsAJWwApYAStgBayAFbACVsAKWAErYAWsgBWwAjNCgc8O4CiXq09LxF/k9G2B8m4Xx8SjOeU3K2+p+EtxvvhV8dfiWbEZ5qjgG+Ifib9qVkn59GuRmGe3xWEuGkIFOM+c71Zzp9U8bTfkmiq0m295bcR+vafC3+ZVyOTNUvp3mTwnWyjwvMouiQidRSy7oIK52UKl6+I5cbbICaadqtgKFRVSbyKphO23kzTRujiZyXNyNBUY17AuidUWw2M+UKcbcNxEFweO6xiOrXRwbE11Xu2gXmlVri3NcnPDe0PRTTlVblPeERGPzpUnBQ6Hnc9e8bzIzmmD2BCnirU6gLYMK1CEAhvU6I4iGk7axEbeBTqpUm50EJ3Pm0ESbr1ScMtVEZ8SuY3CEaXAWeCAdofMwwr/SWyEtAMrMCgKMC9fG5TOlNWPQXQ+ZyTGITHrfHjWA94Q3xKzzucWCoXovNgZ1cVFZAbwfOdp8QORW7c94l+JKSiPbXM86RQ4uX0ix38kbhbniYYVYEc+Lh4XL4nMMx4VZOcH8+pRMcVKJQ6KHDcpUr5apG4WNyrjVfHjwF0Kx0RwvcgxhMx94qyFgcMgOh9EwrlURASMwCHglE6Lu0XKFooROKuT4rGQQXlVnBvSTIzXxYfEHeL9Im29IqY4rMSpkLFXIekIJhEnsyHSDv2kna2iMbMViPNrg2Q4IK4SnxPvEfeJcR4q+sm8XEAk4AGFPxTPiw+KL4rfEp8Sq2IWzF/sPSxy3DJxj0gebewN4ZkQ58G50aECeOpL4t2h/myF58THQ3pMIeVcHQCicxWYIBFQU0idakivCOl4TMi+ZmPIT48lzrEp6kqQx0RJwUknf06a2WF8repNFsjtHfajqGpvFzi2TnRD324wroM4p50wts/OhfrrY0YIbw75zLMI6k2EBPOGuY2DYh5HLFLkgkjdiHFFSD8dM0IY5/DiJH9S8XqSHrhoOthB6txP1Rk8OCfuZfFWEQf0ExGcCLxN4ZMionMSd4vNcEco+OdMhe8pzRWkU/wgU3G/0svEeeLZTFm75LOqAIsCE7BMXC/jN5TZgWnaZj6datIGc4/xRdylyEWR+ZTigBKHRObfI2lBiHOhnS0+J3J8xGFFsB/nbcwnzM7BI6FwTlpp0OOD6nzOSzhOWjUIyAlgYbPQI95S5H4RwXFOID7vuZy6+m9FyZMiW9EUDSXSk56WZeMcT9+MmaEAF7a9TYbKriJ1PgtCvaM59amHg8nDwpD57zmFOBXmfhbZOZwtH4r0rAHuJc5lg4hzuU0knTqJnUo/KN4kLhEPiN2eFBxbJ0jtd1LfdWaOAjgX5tGWKQ45zimOz2KQ12e2r1NOD/LguMX6jninOCY+Jabg1owTt0jE+TwntsJJFVZFnFnqbOYqDQ0rMB0Fjulg5iG7pezumPmbzjklr+BIiP25Qi6gKRamiVGLXzvAAzqkvrGTWRf6mL2l4mTuF1eJOI/4PEjRXOwIudkHxqtzaseJknc1yqnuLCtwzU5pwIUtO5/mK+9dsdnDf+Y18/xhkeMjcGTLYmIUw0F2Phcl+F5xsXhCbIhZvKUMrg44CxxRK/xYhdT/rviEWBUfFzeIWZwMGVsVrskWOm0FchT4vvKOiM+IfPq0VOQTMJ4NzRL/UcwDu6QHRebxOyJzc5PIp6inxW7BmmDt0JeqOHAYZOeDWDvFhviSmAe+cNgQXxFxVikQvyGmW+CvK/2iuE5kUqwS7xEbYnqi+TQBZ3aXuEoEp8TolD7JCH+4ajXErP1Q7GAIFYjnNJ072WEwHxpJJnW/LG4RcSZc6H4oMq++Iu4VIxqKpPONT3SXicdE5uNC8V6RNlLEfmXnWt5c/5YOpP7D4pfSRhwvX4Hry+9C4T2YLNxCawNl22/du2JLmV+zOzAxR3WWiIRZvK2M49lMp63AMChQ9uIv2/4wnKN56uQlcVums4uV5kuGmzP5TlqBoVCg7MVftv2hOEnq5ISIA2KnQ5yH03zrGf3miyOJQX/mM5Kie1BWIKPAfUrfK/JMsSJyu7ZB/KJInmEFhk4Brpxlomz7ZY7dttso4J1PG4FcbAWsQDEK2PkUo6tbtQJWoI0Cdj5tBHKxFbACxShg51OMrm7VCliBNgrY+bQRyMVWwAoUo4CdTzG6ulUrYAXaKGDn00YgF1sBK1CMAnY+xejqVq2AFWijgJ1PG4FcbAWsQDEK2PkUo6tbtQJWoI0Cdj5tBHKxFbACxShg51OMrm7VCliBNgrY+bQRyMVWwAoUo8CsLptdreN4+1oWDWUcELMve8/Wa5eeqwq8AnIqiH3i9QSGFShDAdYE87AV9quQ9z0XBdY0r+Tg1aojCV54dKkF6yrr5BWSeeJw8niR9lQR+zTV40a5/mTJgyvbfr+HX5PBS204UWCnxtT2QbFaoI2eNT3d264b1JPPJPxTxbeIVXGt2A14qRI7H8MKDKsCq9TxdF2k8fsKHNQtapvXrw4Fput8soM8qYy/D5nLsoUhzYuyK2K3L3DnuPliO1CvWxvt2na5FeilAtwqVcROLrrMfepyTFGI/clrH/vt1hV3PRWxk/Go2tTA1pHtZSXnMAxTxntoUyxRYp9IWeT7itfECMp5dy0vzp4U090Tt2PUb3bsRChbqpD/lx3rcQt3szgTgYZlomz7/R57TQaZd4SdgMU5ITLnOQ7uEReIKbhg8yL5j8VYj2O2ivG/XrBWPgzlHyjcJwLyJ8XsBXtFyI9rg3Lq3RlC7LwrRjygSLr+qLsyFoYQp/SqyPrleMhtYLSh6PQxoSZouJJpCuOIhPGqGDGmCMLhFBh0VaTjx0XaWSgCyqiDiDVxkQjWi9TbIy4PrIe82xWCCZE6nJTHxaXioyGNaEVeKdT8QGKy5F6Vbb/fw6/JIHOQsB2YjyxM5ivztCrGNYHzqIgRuxS5IMZ6rIFtIraeFwFrZbNI3hMiawmMi+RVxBQ1JcivhsyKQtKslbfFTSLtgHGRsu3i8kCcDHn0OWKPIqxd8qri3eIH4kdidJKKTg8TOhzDzbgm0zyiXRCzHv320EYtqV9XfDJJs5Oi8++IqQNhMAyUAYMJ8ZKYtb0x5EdHpmTHWKua9KVbbu/YUjEV6XeZKNs+i6jbc8dxcQF3qmFNFS+JzMs8u8zFiNWKUJcwRUWJc+LmkEma+f90SKcBC5sxRkT71ZihcFzETkVMka1bUSH1jorpOmNDwdp9XUxBHWzTh1if458XUyxX4lUxbjCulMWDrmRMMfKK6qcf6eEolonPiLT9rAieDPwkEf7MVfipDqUVQpwHaNTdIl4UI7D7BfF0zAjha5n0kZCmjamC/scxTPVY6k92c5CP6ZkCLJwbetZa5w0dU9UTOdXJj/iaIsznH8WMEDYUHhZvS9J/EuIxYG0tEjmeMfYSO9VYus6WKo29FzNGqPND8TlxsXhAbIj3iqdE/pvwIZGv3eR+9YZGp4NHdHAj08Acpd8WnxLpwAkRINYDIRxTOE9kAO1wY6gQ20nrZx0PZSfTCo5bgRIUeFE2f9DGbkXlrD92Oe0wVxVYO1WRtQMB66fX8/3sJy3//k+0teP3WZ+KsUZxPt8Ut4obAlmfu8XviZRfhVlXpXqToPMviM+Jt4g4jdtFOk9ndoqviIdF7NO5TlBEXzux6zpWoCgFWA8Pt2kcx8PFfExkrbwksnZ+Lu4T+4UNMtRoYoy+gP3in4m3ircF3qvwnhD/icIrKGpBIxjAM4PviDilvxQRPAKnBOZcDnL//lvIXaAwe0s1rjxOCh7XsALDpAAX5Tinz2Q6vlzp/w15K0O9hxSyg0jBumFddYO4RtsdSz8BYfYWcaHyrhNPi/SFzcZ7Ik4GPiIuEXGSD4rkXcG1V2K9iyxWU+vE82I0xkBJ08kIHB/1wLzLwZW/qVM8rNyT4v0iA4y4XhGOzx4byx1agUFW4BV1jnn+WKaTC5XeKXJhBawdwBpIUVMiO/cvhgqfSyqeCXEcQwTriPXUCXhew9r9lpiuP/rOLRZ9nS2yHneL2fE0lAdiPy6n9JcGpgM8Whww7cROkPeQeIpMYYe4Ttwu0lkGsSqECq4a1Amlq2Jd5Dge+OI1ibP9fFGk37RP+G3RsALDpsDL6vA94sPiApF1wQJmXp8X2TWAN8QN4jPifPGsuETkWNbKXDHivRBhjRwSvy5yt/Ad8QVxscjxHHtS7ASnVWmdyPEHxS3iefFecZFIf+M636L4KnGO+FYI71eITdZxT/CoWsE5ZIlzeUJcKKaYpQT5R8VJ8R0RDzlb5Bi+UxAxXxE+mqPexpip8GaRj/vIhxzHSYuIfYrpGC5XpC4iVL9BP8uE7fdX/TjXCDsB62KtyHrgXEF2E+m8VvKT79Zwoaf8uBjr1BSvi2NiBOvqXZE254VMnM4ukeNZg+Mi64xj47q4PqRrCvPAmGIbtMOxKzIVGQ/20/FsUzrayFR3skgFOEllwvbLVN+2WypQxDOflgZdaAWsgBVAATsfzwMrYAVKUcDOpxTZbdQKWAE7H88BK2AFSlHAzqcU2W3UClgBOx/PAStgBUpRwM6nFNlt1ApYATsfzwErYAVKUcDOpxTZbdQKWAE7H88BK2AFSlHAzqcU2W3UClgBOx/PAStgBUpRwM6nFNlt1ApYASvQewV4NQG/Jv9A/O8QHlHI60P6Aez/Ukzt84qFftr/VWL/hOL9BON/X4zj5xUUxgAq4J1P70/KKTV5TPyd+MfiH4i8i+W82A9E+3NlDPu8yGm/2E/7OF+cAPY/L/YTjP/XYrTvOd5P9W2rdAV4ydJ/ipfEj0Re5tRPYJ8rP/Y/FMuwfybY5419/cbfyuBvxf8T/6Xfxm3PCpSpAG90+y+Rxc8tT7+B/d+ILMB/7bdx2cM+t5zstlaK/Qb22fHRhzLs93u8Q2nPW9JiTttFNft9kfC5Yky0bBW7XPE/E8KWlQsoxP6E+DnxFwW0365J7POaXW77yrDfrn8utwKFKlBR6x+LvEy7DFRkdBDslzF2bFZExm8MqAKfHdB+jUK3eObxH2JZV95BsM/OmoftZYDxl2m/jDHbphWwAkGBfn2830zwsu0365fzrYAVsAJWwApYAStgBayAFbACVsAKWAErYAWsgBWwAlbAClgBK2AFrIAVsAJW4CoFVijFd1suiPy8gt9YPS3OE4sGPytYIx4Uo32+aLdLXCqWgW0yig61PhhfLxv1NuxDN2zCCvRfgY0yyUKDOAAWQvyBJ+ECsSjgeHAyWfuTSd7aoow3affuxHatSZ1eZqN5HH+zsJf23JYVGAgFquoFE/6cmO4y+KLb9lBWV1gUHlPD2MfJZX/Fzo6AMnZDi8R+YL6M8It+7MKaWDTQHlu3i9UmVLZhBUZLgehguMXKYq4y4iIcyxb2KP1+sMFuIw+xf5vyCnucxy6sLuLsPhQZe00sEgvVOHbQwRgCBfyr9t6dpLfU1Evij3Ka5HdGp0I+O4Jeg+dJvDwLvHk5+NTf/SGHRVo0uL2ris+IR8R+4C+CkUP9MGYbVmBYFGC3w1WZnUB0EkX0vdVD7Y2hD+yAigS3dYzzHZFbzrrI2GtikYjjeywYQeclYpF6Fzket20Fpq3AzWrhqMgC7MctT16Hue2LD75X51XoUR7O5l0R54MTAv1yPrtkC42fF+kD8ciDildFwwrMCAVYBPE5DIuAKzPPQsrAVhmlD5MiDqIo8LwLO+sTA/WQV0vyioh+GOxgH923ia+KH4nk4RBXiIYVGHkFuPpyxY2Tn8VR5K6jmaDRIZxTBXZhRWG5GmaR18XUyZImvyYWBW6tsAG57Urt8zK37aEMDYp45qZmDSsweAqwENaIXHlZHCvFfgC7EyI2i77q86yJ3cbHYkVMUVeCPtTSzB7HGeuYyDOePLDbmxTpx3heBedZgVFWYJMGx+Q/3odB8oxnT7CHQ6iKRSLuLGo5RurKY9x5ZTnVC8uKO8BdhVlww1ZgQBVYrH6xCCHOoSgsUMNHReywG+nHR+txXJOylyW3OpRz20kZz2LKwLiM0o96GcZt89MKsF01eqPAejXD1v8R8WxOk2leUbrjeFhcPAPh+y5fFU+J/UKlhSFuzWCjRZ1uixbrwFtExtrs/4Tx7Aecvhz4rxUYHQW4veHKuqLJkB4I5exGigAO5wORPnBrEReboqUCZ0ifagX2Ym2w0Urbd0MdzoNhBUZKgc0aDYuMSZ5d+OyIomMYV7wIvK5GsX9QnF2EgS7brOs4+lXr8vhODuMTrAsidni4n8WjyqCMW78ib3mzdp22An1RgFuK6GB45sIiWC4+JjLpmfz7xCIcAx+h035cYJOKN+M2lfUTdRmjX7WCjUYHg60J8U5xpRidMs6J82FYgaFQgO38VFBR5brIAkjJxN8sZndEymqJTu0/plZSe63i9ZYWry7s1P7VR12dwh79qV2d3VFqqvap/5GIvZTHle7G8UzVvswYnSrAv9M1miswqaIbmhc3LVmoki+JPIdpiD8TT4pTRaf2uZXo9HbivOp2+hC6U/utxoUG7PZOi2dbVcwp68Y+Dv5WkZ0o+KW4X7xIYoroxv4UTbi6FchXgMlXJmy/TPUv37qW24MRtu5XaozwyfXQrMAgK2DnM8hnx32zAiOsgJ3PCJ9cD80KDLICdj6DfHbcNyswwgrY+YzwyfXQrMAgK+CP2lufnd+o+H9aVym0lG/udvMRfa86NdPt/6GEvK5XYrodKzAVBfxR91TU6n3dma5/7xUdoBZ92zVAJ8NdsQIzSQE7n5l0tj1WKzBACtj5DNDJcFeswExSwM5nJp1tj9UKDJACdj4DdDLcFSswkxSw85lJZ9tjtQIDpMBnB6gvg9qVn5fcMdsv9wSUrX+5o7d1K2AFrIAVsAJWwApYAStgBayAFbACVsAKWAErYAWsgBWwAlbAClgBK2AFrIAVsAJWwAoMhwL8PyxjZirAv+Dx/+2amed+IEZ9Tr2YNRA9cSf6rcCYDPKfZ42CFPDPK1oLe0TF/CtiY+YpcJOGzPk3ClLAzqe1sDtVfHfrKi4dUQXu0bg4/4YVKEUB/tXvh2KlFOs2WpYC7HbfF/k3z4YVKE2BNbL8jsgDSGP0FeCCg+O5ffSH6hEOgwKb1EkcUGUYOus+dq3AIh3JS+vXd92CD7QCBSjADohbMBzREtGfgkmEEQC3VkvFreIH4grR6IMC/r9dUxOZLfkD4h3iQvFsoIKhBWM4LO4QXxMvis3AQuUBfBz/sD8TmauxcBGJ4/++4mdEwwpYgYIVYPEtEFeL+0S+18LD1jzwDOR98XVxpcj3YPwcTCIYVsAKTF8BHAy3ltmvF/AMBMfTzDGpyLACVsAKTE8BdkI4oOhoeAbCQ1huOQ0rYAWsQKEKsAPiFmyeyEPYRaJhBXqqgB8491TOkWqMZ0CgIX6TiGEFrIAV6IcCq2Xkkri0H8ZswwpYASsQFeDZD85n2D9Oj+NxaAWswJAowMfw9SHpq7tpBayAFbACVsAKWAErYAWsgBWwAlbAClgBK2AFrIAVsAJWwApYAStgBayAFeijAv6Gcx/F7sAU361p9xsqXvlwQuRVGGWC7//E33/tLagj0cYptX+sIBtu1gpYASkwIfLFvk64R/VwVmWhIsOxn0X1YVOwgS7GiCngt/EN5gllZ7M/p2ucLxzOYnGZWBf/RmyIo4blGtBDozYoj8cKDKoCXOHZTbS70nO783Gou1lhGajIKH2FvQa/puf9QbH9dnr02r7b64MC/r9dfRC5ABMH1OZ3Q7t3FdB+2U3iUOeLO8vuiO0Xp4Bvu4rTtuiWTwYD/AYrD7yT52vimFgRqc/t3Evim2KKqhK3ij8VD4lrxGViReRB7yvij8SLYifg1jC+DfFlxafysJhf09PvLeJe8Q7RsAJWoGAFuL3gVqOT24ynQ93JTJ/mKM3DaNqB3J7xQrCYJnxCTDGuBPnPi7xELK0b47uUn6KiRCxL83E80R59nAoqqkx/J0XGUROxMSEaVsAKFKgAi6yTxVZTvQuh7nimPxtDPk6EB9MRPEfBudA+x3JbE0EbMX9S8TvF2SIO4FGRMshuKqKiSMyPedNxPLPUyNsifauKoCZiY4KEYQWsQHEKsMhYbOwc6k34YahDvX0iTiJFLM97CRgLPJZXk4PGFac9iAPJ4lVlUJbuZCohj3wwHcfD8Y+JtLWRREBNIXkTMcOhFbACxSjAImOxteNB1Vkj4kyyYIeT7niy5XVl0H41KRgPee8keWk0lk8kmRXFaQemjme90lMFn96x48F+Oqaa0rQ/IRojpkB6okdsaEM9nN3q/ZPJCK5TfJ3IIt0v/p14RMzDaWVCgFO4URwLcY5fJDYDD6S7QV0HXS/yQPpnU2yAW7ut4dj7QjjFJlx9GBWw8xnMs3ZK3dqb6dqPleb25w6RZyNfFg+LWcxWxrh4v8guKAXOhbZxFHk4m5fZQR7tHRLZcbFL+aJ4XuwE3GbhHJ8Rz4gVMSL2HwdVCZmNEDqwAlaghwqwcC+JhHlgEU6K1HlfnCtmsUcZlJ8Tt4ncBt0pxgfMOC7Kq2LEuCLkTcSMTJhXXlEdjoFrxbRv6XMbFbXEpEpjO52ELRtz4fAo4J3P8JwresrO5BviPhFn8rTIrUrEUkWWidz+/LV4RMwiOqHPZwumkX42HPugwt3iOpGd2gGxHajTaFKJHdUC8ZR4rEkdZ1sBK9ADBSbUBld/wlbYpMK4S8DhRNQUIX8yZmTChaGcOtSNGFeEvImYkQnzyiuqwzEwBW2Qd1ScnRZ0Ea/pGNqiTWPEFPDPK4bzhH5b3T4Zuv6iwrjIT4e8uGMIyU8Cdjzb04yC4v+gdukHO5bHC7LhZkdAATuf4TyJ3H49GLpeURgXOT+b4FYLZ8SznefFcRGnc1zkGdEBEcTbr8up3v3loXHsG7dfN/euabc0SgrY+QzW2WTH0BDjDqZV795Q4RaxIX5N5BOji+JXxB0iDggnsEFcIr4gfkF8SmyIi8UIHEZDbGY3rxxbHAOz4HnPFpHdGc5vltgNcLINsVm/umnTx1gBK1CwAjifisgtmGEFrIAVsAJWwApYAStgBayAFbACVsAKWAErYAWsgBWwAlbAClgBK2AFrIAVsAJWwApYAStgBayAFbACVsAKWAErYAWGQ4H/B7znERUQ+DmyAAAAAElFTkSuQmCC)"
      ]
    },
    {
      "cell_type": "code",
      "metadata": {
        "id": "eDslfyeABRqt",
        "colab_type": "code",
        "colab": {
          "base_uri": "https://localhost:8080/",
          "height": 153
        },
        "outputId": "6cb82c33-2146-4b31-a9a5-e2a90fab3909"
      },
      "source": [
        "mo# There are a lot of operations\n",
        "np.array(rank_3_tensor) == rank_3_tensor.numpy()"
      ],
      "execution_count": null,
      "outputs": [
        {
          "output_type": "execute_result",
          "data": {
            "text/plain": [
              "array([[[ True,  True,  True,  True,  True],\n",
              "        [ True,  True,  True,  True,  True]],\n",
              "\n",
              "       [[ True,  True,  True,  True,  True],\n",
              "        [ True,  True,  True,  True,  True]],\n",
              "\n",
              "       [[ True,  True,  True,  True,  True],\n",
              "        [ True,  True,  True,  True,  True]]])"
            ]
          },
          "metadata": {
            "tags": []
          },
          "execution_count": 85
        }
      ]
    },
    {
      "cell_type": "code",
      "metadata": {
        "id": "6XoqSfoLBGjW",
        "colab_type": "code",
        "colab": {
          "base_uri": "https://localhost:8080/",
          "height": 221
        },
        "outputId": "d04fbad4-276b-4887-d6c6-2fc12111746a"
      },
      "source": [
        "a, b = tf.constant([[1,2],[3,4]]), tf.constant([[1,1],[1,1]])\n",
        "print(tf.add(a, b), \"\\n\")\n",
        "print(tf.multiply(a, b), \"\\n\")\n",
        "print(tf.matmul(a, b), \"\\n\")"
      ],
      "execution_count": null,
      "outputs": [
        {
          "output_type": "stream",
          "text": [
            "tf.Tensor(\n",
            "[[2 3]\n",
            " [4 5]], shape=(2, 2), dtype=int32) \n",
            "\n",
            "tf.Tensor(\n",
            "[[1 2]\n",
            " [3 4]], shape=(2, 2), dtype=int32) \n",
            "\n",
            "tf.Tensor(\n",
            "[[3 3]\n",
            " [7 7]], shape=(2, 2), dtype=int32) \n",
            "\n"
          ],
          "name": "stdout"
        }
      ]
    },
    {
      "cell_type": "code",
      "metadata": {
        "id": "OCvFsiIpHL-6",
        "colab_type": "code",
        "colab": {
          "base_uri": "https://localhost:8080/",
          "height": 221
        },
        "outputId": "0d7fbbd3-0072-433e-a2a1-9eedaf816725"
      },
      "source": [
        "print(a + b, \"\\n\") # element-wise addition\n",
        "print(a * b, \"\\n\") # element-wise multiplication\n",
        "print(a @ b, \"\\n\") # matrix multiplication"
      ],
      "execution_count": null,
      "outputs": [
        {
          "output_type": "stream",
          "text": [
            "tf.Tensor(\n",
            "[[2 3]\n",
            " [4 5]], shape=(2, 2), dtype=int32) \n",
            "\n",
            "tf.Tensor(\n",
            "[[1 2]\n",
            " [3 4]], shape=(2, 2), dtype=int32) \n",
            "\n",
            "tf.Tensor(\n",
            "[[3 3]\n",
            " [7 7]], shape=(2, 2), dtype=int32) \n",
            "\n"
          ],
          "name": "stdout"
        }
      ]
    },
    {
      "cell_type": "code",
      "metadata": {
        "id": "2NVEzVTsMaXH",
        "colab_type": "code",
        "colab": {
          "base_uri": "https://localhost:8080/",
          "height": 102
        },
        "outputId": "5ff6e188-d09c-4a60-975a-1253448c08be"
      },
      "source": [
        "c = tf.constant([[4.0, 5.0], [10.0, 1.0]])\n",
        "# Find the largest value\n",
        "print(tf.reduce_max(c))\n",
        "# Find the index of the largest value\n",
        "print(tf.argmax(c))\n",
        "# Compute the softmax\n",
        "print(tf.nn.softmax(c))"
      ],
      "execution_count": null,
      "outputs": [
        {
          "output_type": "stream",
          "text": [
            "tf.Tensor(10.0, shape=(), dtype=float32)\n",
            "tf.Tensor([1 0], shape=(2,), dtype=int64)\n",
            "tf.Tensor(\n",
            "[[2.6894143e-01 7.3105860e-01]\n",
            " [9.9987662e-01 1.2339458e-04]], shape=(2, 2), dtype=float32)\n"
          ],
          "name": "stdout"
        }
      ]
    }
  ]
}